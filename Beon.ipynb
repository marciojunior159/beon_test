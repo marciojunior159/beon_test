{
 "cells": [
  {
   "cell_type": "code",
   "execution_count": 1,
   "id": "7177de04",
   "metadata": {},
   "outputs": [],
   "source": [
    "import matplotlib.pyplot as plt\n",
    "import seaborn as sns\n",
    "import pandas as pd\n",
    "import numpy as np"
   ]
  },
  {
   "cell_type": "code",
   "execution_count": 3,
   "id": "7a03ba55",
   "metadata": {},
   "outputs": [],
   "source": [
    "nyc_airlines = pd.read_csv('dataset/nyc_airlines.csv')\n",
    "nyc_airports = pd.read_csv('dataset/nyc_airports.csv')\n",
    "nyc_flights_fixed = pd.read_csv('dataset/nyc_flights_fixed.csv')\n",
    "nyc_planes = pd.read_csv('dataset/nyc_planes.csv')\n",
    "nyc_weather = pd.read_csv('dataset/nyc_weather.csv')"
   ]
  },
  {
   "cell_type": "markdown",
   "id": "20489847",
   "metadata": {},
   "source": [
    "Determine the number of distinct destinations connected to the airport. EWR"
   ]
  },
  {
   "cell_type": "code",
   "execution_count": 7,
   "id": "ef227d68",
   "metadata": {},
   "outputs": [],
   "source": [
    "ewr_flights = nyc_flights_fixed[(nyc_flights_fixed.dest == 'EWR') | (nyc_flights_fixed.origin == 'EWR')]"
   ]
  },
  {
   "cell_type": "code",
   "execution_count": 14,
   "id": "b8446323",
   "metadata": {},
   "outputs": [
    {
     "data": {
      "text/plain": [
       "82"
      ]
     },
     "execution_count": 14,
     "metadata": {},
     "output_type": "execute_result"
    }
   ],
   "source": [
    "len(set(ewr_flights.origin).union(set(ewr_flights.dest))) - 1"
   ]
  },
  {
   "cell_type": "markdown",
   "id": "87869cb8",
   "metadata": {},
   "source": [
    "Create a ranking of airlines based on the number of flights they operate."
   ]
  },
  {
   "cell_type": "code",
   "execution_count": 20,
   "id": "cd63092d",
   "metadata": {},
   "outputs": [
    {
     "data": {
      "text/html": [
       "<div>\n",
       "<style scoped>\n",
       "    .dataframe tbody tr th:only-of-type {\n",
       "        vertical-align: middle;\n",
       "    }\n",
       "\n",
       "    .dataframe tbody tr th {\n",
       "        vertical-align: top;\n",
       "    }\n",
       "\n",
       "    .dataframe thead th {\n",
       "        text-align: right;\n",
       "    }\n",
       "</style>\n",
       "<table border=\"1\" class=\"dataframe\">\n",
       "  <thead>\n",
       "    <tr style=\"text-align: right;\">\n",
       "      <th></th>\n",
       "      <th>carrier</th>\n",
       "      <th>flight</th>\n",
       "      <th>name</th>\n",
       "    </tr>\n",
       "  </thead>\n",
       "  <tbody>\n",
       "    <tr>\n",
       "      <th>0</th>\n",
       "      <td>UA</td>\n",
       "      <td>55802</td>\n",
       "      <td>United Air Lines Inc.</td>\n",
       "    </tr>\n",
       "    <tr>\n",
       "      <th>1</th>\n",
       "      <td>EV</td>\n",
       "      <td>54173</td>\n",
       "      <td>ExpressJet Airlines Inc.</td>\n",
       "    </tr>\n",
       "    <tr>\n",
       "      <th>2</th>\n",
       "      <td>B6</td>\n",
       "      <td>50194</td>\n",
       "      <td>JetBlue Airways</td>\n",
       "    </tr>\n",
       "    <tr>\n",
       "      <th>3</th>\n",
       "      <td>DL</td>\n",
       "      <td>46669</td>\n",
       "      <td>Delta Air Lines Inc.</td>\n",
       "    </tr>\n",
       "    <tr>\n",
       "      <th>4</th>\n",
       "      <td>US</td>\n",
       "      <td>19837</td>\n",
       "      <td>US Airways Inc.</td>\n",
       "    </tr>\n",
       "    <tr>\n",
       "      <th>5</th>\n",
       "      <td>9E</td>\n",
       "      <td>17416</td>\n",
       "      <td>Endeavor Air Inc.</td>\n",
       "    </tr>\n",
       "    <tr>\n",
       "      <th>6</th>\n",
       "      <td>WN</td>\n",
       "      <td>12237</td>\n",
       "      <td>Southwest Airlines Co.</td>\n",
       "    </tr>\n",
       "    <tr>\n",
       "      <th>7</th>\n",
       "      <td>AA</td>\n",
       "      <td>10090</td>\n",
       "      <td>American Airlines Inc.</td>\n",
       "    </tr>\n",
       "    <tr>\n",
       "      <th>8</th>\n",
       "      <td>VX</td>\n",
       "      <td>5162</td>\n",
       "      <td>Virgin America</td>\n",
       "    </tr>\n",
       "    <tr>\n",
       "      <th>9</th>\n",
       "      <td>FL</td>\n",
       "      <td>3073</td>\n",
       "      <td>AirTran Airways Corporation</td>\n",
       "    </tr>\n",
       "    <tr>\n",
       "      <th>10</th>\n",
       "      <td>MQ</td>\n",
       "      <td>1000</td>\n",
       "      <td>Envoy Air</td>\n",
       "    </tr>\n",
       "    <tr>\n",
       "      <th>11</th>\n",
       "      <td>AS</td>\n",
       "      <td>714</td>\n",
       "      <td>Alaska Airlines Inc.</td>\n",
       "    </tr>\n",
       "    <tr>\n",
       "      <th>12</th>\n",
       "      <td>F9</td>\n",
       "      <td>635</td>\n",
       "      <td>Frontier Airlines Inc.</td>\n",
       "    </tr>\n",
       "    <tr>\n",
       "      <th>13</th>\n",
       "      <td>YV</td>\n",
       "      <td>601</td>\n",
       "      <td>Mesa Airlines Inc.</td>\n",
       "    </tr>\n",
       "    <tr>\n",
       "      <th>14</th>\n",
       "      <td>HA</td>\n",
       "      <td>342</td>\n",
       "      <td>Hawaiian Airlines Inc.</td>\n",
       "    </tr>\n",
       "    <tr>\n",
       "      <th>15</th>\n",
       "      <td>OO</td>\n",
       "      <td>32</td>\n",
       "      <td>SkyWest Airlines Inc.</td>\n",
       "    </tr>\n",
       "  </tbody>\n",
       "</table>\n",
       "</div>"
      ],
      "text/plain": [
       "   carrier  flight                         name\n",
       "0       UA   55802        United Air Lines Inc.\n",
       "1       EV   54173     ExpressJet Airlines Inc.\n",
       "2       B6   50194              JetBlue Airways\n",
       "3       DL   46669         Delta Air Lines Inc.\n",
       "4       US   19837              US Airways Inc.\n",
       "5       9E   17416            Endeavor Air Inc.\n",
       "6       WN   12237       Southwest Airlines Co.\n",
       "7       AA   10090       American Airlines Inc.\n",
       "8       VX    5162               Virgin America\n",
       "9       FL    3073  AirTran Airways Corporation\n",
       "10      MQ    1000                    Envoy Air\n",
       "11      AS     714         Alaska Airlines Inc.\n",
       "12      F9     635       Frontier Airlines Inc.\n",
       "13      YV     601           Mesa Airlines Inc.\n",
       "14      HA     342       Hawaiian Airlines Inc.\n",
       "15      OO      32        SkyWest Airlines Inc."
      ]
     },
     "execution_count": 20,
     "metadata": {},
     "output_type": "execute_result"
    }
   ],
   "source": [
    "nyc_flights_fixed.groupby(['carrier'])[['flight']].count().sort_values('flight', ascending=False)\\\n",
    ".merge(nyc_airlines, on='carrier')"
   ]
  },
  {
   "cell_type": "markdown",
   "id": "6124664b",
   "metadata": {},
   "source": [
    "Cumulative sum of the departure delay"
   ]
  },
  {
   "cell_type": "code",
   "execution_count": 26,
   "id": "088acedc",
   "metadata": {},
   "outputs": [],
   "source": [
    "monthly_delay = nyc_flights_fixed[nyc_flights_fixed.dep_delay > 0].groupby(['year', 'month'], as_index=False)[['dep_delay']].sum()"
   ]
  },
  {
   "cell_type": "code",
   "execution_count": 39,
   "id": "7915d2c6",
   "metadata": {},
   "outputs": [],
   "source": [
    "monthly_delay_cum = monthly_delay.copy()\n",
    "\n",
    "monthly_delay_cum['dep_delay']= monthly_delay_cum.dep_delay.cumsum()"
   ]
  },
  {
   "cell_type": "code",
   "execution_count": 56,
   "id": "c4c5868d",
   "metadata": {},
   "outputs": [],
   "source": [
    "monthly_delay_cum['month'] = monthly_delay_cum['month'].astype('str')\n",
    "monthly_delay['month'] = monthly_delay['month'].astype('str')"
   ]
  },
  {
   "cell_type": "code",
   "execution_count": 57,
   "id": "51f93747",
   "metadata": {},
   "outputs": [
    {
     "name": "stderr",
     "output_type": "stream",
     "text": [
      "C:\\Users\\mlope\\AppData\\Local\\Temp\\ipykernel_25000\\1862153129.py:2: MatplotlibDeprecationWarning: Auto-removal of overlapping axes is deprecated since 3.6 and will be removed two minor releases later; explicitly call ax.remove() as needed.\n",
      "  plt.subplot(121)\n"
     ]
    },
    {
     "data": {
      "image/png": "[encoded data removed]",
      "text/plain": [
       "<Figure size 1500x400 with 1 Axes>"
      ]
     },
     "metadata": {},
     "output_type": "display_data"
    }
   ],
   "source": [
    "f, ax = plt.subplots(1, 1, figsize=(15,4))\n",
    "plt.subplot(121)\n",
    "sns.lineplot(data=monthly_delay_cum, x='month', y='dep_delay')\n",
    "sns.barplot(data=monthly_delay, x='month', y='dep_delay')\n",
    "plt.show()"
   ]
  }
 ],
 "metadata": {
  "kernelspec": {
   "display_name": "Python 3 (ipykernel)",
   "language": "python",
   "name": "python3"
  },
  "language_info": {
   "codemirror_mode": {
    "name": "ipython",
    "version": 3
   },
   "file_extension": ".py",
   "mimetype": "text/x-python",
   "name": "python",
   "nbconvert_exporter": "python",
   "pygments_lexer": "ipython3",
   "version": "3.10.9"
  }
 },
 "nbformat": 4,
 "nbformat_minor": 5
}
